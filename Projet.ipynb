{
 "cells": [
  {
   "cell_type": "markdown",
   "id": "a8659459",
   "metadata": {},
   "source": [
    "### Mettez vos implémentations ci-dessous (Fonctions d'activation / de perte, couche de neurones, réseau)"
   ]
  },
  {
   "cell_type": "code",
   "execution_count": 1,
   "id": "dca7664c",
   "metadata": {},
   "outputs": [],
   "source": [
    "import numpy as np"
   ]
  },
  {
   "cell_type": "markdown",
   "id": "0a8c2059",
   "metadata": {},
   "source": [
    "### Chargeons les données et observons-les"
   ]
  },
  {
   "cell_type": "code",
   "execution_count": 2,
   "id": "afebed7c",
   "metadata": {},
   "outputs": [
    {
     "name": "stdout",
     "output_type": "stream",
     "text": [
      "array([[0., 0., 0., ..., 0., 0., 0.],\n",
      "       [1., 0., 0., ..., 0., 0., 0.],\n",
      "       [0., 0., 0., ..., 0., 0., 0.],\n",
      "       ...,\n",
      "       [0., 0., 0., ..., 0., 0., 0.],\n",
      "       [0., 0., 0., ..., 0., 0., 0.],\n",
      "       [0., 0., 0., ..., 0., 1., 0.]])\n"
     ]
    },
    {
     "data": {
      "image/png": "[encoded data removed]",
      "text/plain": [
       "<Figure size 640x480 with 1 Axes>"
      ]
     },
     "metadata": {},
     "output_type": "display_data"
    }
   ],
   "source": [
    "import tensorflow as tf #Librairie de réseau de neurones, pour récupérer le jeu de données\n",
    "import matplotlib.pyplot as plt\n",
    "import pprint\n",
    "mnist = tf.keras.datasets.mnist\n",
    "train_data, test_data = mnist.load_data()\n",
    "\n",
    "# Séparation données d'entraînement / de test\n",
    "train_images, train_labels = train_data\n",
    "test_images, test_labels = test_data\n",
    "     \n",
    "# Préparation des données\n",
    "X_train = train_images.reshape((60000, 784))\n",
    "X_train = X_train.astype('float32') / 255\n",
    "X_test = test_images.reshape((10000, 784))\n",
    "X_test = X_test.astype('float32') / 255\n",
    "     \n",
    "y_train = tf.keras.utils.to_categorical(train_labels)\n",
    "y_test = tf.keras.utils.to_categorical(test_labels)\n",
    "\n",
    "pprint.pprint(y_train)\n",
    "# Regardons à quoi ça ressemble\n",
    "plt.imshow(train_images[1])\n",
    "plt.show()"
   ]
  },
  {
   "cell_type": "markdown",
   "id": "a919fd3f",
   "metadata": {},
   "source": [
    "### Créez un réseau et fittez-le sur vos données d'entraînement avant de tester sur vos données de test.\n",
    "\n",
    "Commencez par prédire les 0 (étiquette = 1 dans la première colonne de y_train) puis prédire tous les nombres. \n",
    "\n",
    "Testez plusieurs structures de réseau (différentes tailles (nb de couches + taille des chouches), fonction d'activation ReLu plutôt que sigmoïde). Commentez vos résultats (en parlant de surapprentissage,."
   ]
  },
  {
   "cell_type": "markdown",
   "id": "0bef5ef3",
   "metadata": {},
   "source": [
    "### Créez un réseau et fittez-le sur vos données d'entraînement avant de tester sur vos données de test.\n",
    "\n",
    "Commencez par prédire les 0 (étiquette = 1 dans la première colonne de y_train) puis prédire tous les nombres. \n",
    "\n",
    "Testez plusieurs structures de réseau (différentes tailles (nb de couches + taille des chouches), fonction d'activation ReLu plutôt que sigmoïde). Commentez vos résultats (en parlant de surapprentissage,."
   ]
  },
  {
   "cell_type": "code",
   "execution_count": 3,
   "id": "34bba02b",
   "metadata": {},
   "outputs": [],
   "source": [
    "class activation:\n",
    "    def __init__(self, function, derivative):\n",
    "        self.function = function\n",
    "        self.derivative = derivative\n",
    "\n",
    "sigmoid = activation(lambda x : 1/(1+np.exp(-x)), lambda x : np.exp(-x)/((1+np.exp(-x))**2))\n",
    "identity = activation(lambda x : x, lambda x : 1)\n",
    "relu     = activation(lambda x: np.maximum(0, x),\n",
    "                      lambda x: (x > 0).astype(float))\n",
    "\n",
    "class layer:\n",
    "    def __init__(self, size_in, size_out, activation_function):\n",
    "        self.entry = np.zeros([size_in])\n",
    "        self.weights = np.random.normal(size=[size_out, size_in])\n",
    "        self.gradient_weights = np.zeros([size_out, size_in])\n",
    "        self.bias = np.random.normal(size=[size_out])\n",
    "        self.gradient_bias = np.zeros([size_out])\n",
    "        self.activation = activation_function\n",
    "        \n",
    "    def output(self):\n",
    "        return self.activation.function(self.weights @ self.entry + self.bias)\n",
    "    \n",
    "    def derivate(self):\n",
    "        return self.activation.derivative(self.weights @ self.entry + self.bias)\n",
    "    \n",
    "    def descend(self, step_length):\n",
    "        self.weights -= step_length * self.gradient_weights\n",
    "        self.bias -= step_length * self.gradient_bias\n",
    "        \n",
    "        # Reset gradients\n",
    "        self.gradient_weights = np.zeros([self.weights.shape[0], self.weights.shape[1]])\n",
    "        self.gradient_bias = np.zeros([self.bias.shape[0]])\n",
    "\n",
    "class network:\n",
    "    def __init__(self):\n",
    "        self.layers = []\n",
    "        \n",
    "    def add_layer(self,size_in, size_out, activation_function):\n",
    "        new_layer = layer(size_in, size_out, activation_function)\n",
    "        self.layers.append(new_layer)\n",
    "        \n",
    "    def run(self,x):\n",
    "        output = np.copy(x) #Par défaut, numpy ne fait pas de copies lors des attributions\n",
    "        for layer in self.layers:\n",
    "            layer.entry = np.copy(output)\n",
    "            output = np.copy(layer.output())\n",
    "        return output\n",
    "    \n",
    "    def fit(self,training_data, training_labels, nb_steps, step_length):\n",
    "        n = training_data.shape[0]\n",
    "        for i in range(nb_steps):\n",
    "            loss = 0\n",
    "            for j in range(n):\n",
    "                output = self.run(training_data[j,:].transpose())\n",
    "                H = -2 * (training_labels[j,:] - output)\n",
    "                loss += np.sum(np.pow(training_labels[j,:] - output, 2))\n",
    "                \n",
    "                for layer in reversed(self.layers):\n",
    "                    temp = layer.derivate()\n",
    "                    layer.gradient_weights += np.outer(H * temp, layer.entry)\n",
    "                    layer.gradient_bias += H * temp\n",
    "                    H = layer.weights.transpose() @ (H * temp)\n",
    "                    \n",
    "            \n",
    "            for layer in self.layers:\n",
    "                layer.descend(step_length)\n",
    "            \n",
    "            if(i%100 == 0) : print(loss)"
   ]
  },
  {
   "cell_type": "code",
   "execution_count": 4,
   "id": "a1d7dbeb",
   "metadata": {},
   "outputs": [
    {
     "name": "stdout",
     "output_type": "stream",
     "text": [
      "[[0.]\n",
      " [1.]\n",
      " [0.]\n",
      " ...\n",
      " [0.]\n",
      " [0.]\n",
      " [0.]]\n",
      "44674.0373077436\n",
      "Précision sur la détection des zéros: 90.20%\n"
     ]
    },
    {
     "data": {
      "image/png": "[encoded data removed]",
      "text/plain": [
       "<Figure size 1000x500 with 10 Axes>"
      ]
     },
     "metadata": {},
     "output_type": "display_data"
    }
   ],
   "source": [
    "# Préparation pour la détection des zéros uniquement\n",
    "# Extraire seulement la première colonne de y_train qui correspond aux zéros\n",
    "y_train_zero = y_train[:, 0].reshape(-1, 1)  # Extraire la colonne des zéros et la transformer en vecteur colonne\n",
    "y_test_zero = y_test[:, 0].reshape(-1, 1)    # Idem pour les données de test\n",
    "print(y_train_zero)\n",
    "# # Créer un réseau avec moins de neurones et un taux d'apprentissage plus faible\n",
    "NN = network()\n",
    "NN.add_layer(784, 20, relu)      # Utiliser relu au lieu de identity\n",
    "NN.add_layer(20, 1, sigmoid)     # Une seule sortie pour détecter les zéros\n",
    "\n",
    "# # Entraînement avec moins d'étapes et un taux d'apprentissage plus faible\n",
    "# # pour éviter les problèmes d'overflow\n",
    "NN.fit(X_train, y_train_zero, 20, 1e-4)\n",
    "\n",
    "# # Test du modèle sur l'ensemble de test (pas d'entraînement)\n",
    "n_test = X_test.shape[0]\n",
    "y_pred = np.zeros(n_test)\n",
    "\n",
    "for j in range(n_test):\n",
    "    #Prédiction avec le modèle entraîné\n",
    "    output = NN.run(X_test[j,:])\n",
    "    y_pred[j] = output[0]  # La première (et unique) valeur de sortie\n",
    "\n",
    "# # Évaluation des performances\n",
    "pred_class = (y_pred > 0.5).astype(int)\n",
    "true_class = y_test_zero.reshape(-1)\n",
    "accuracy = np.mean(pred_class == true_class)\n",
    "\n",
    "print(f\"Précision sur la détection des zéros: {accuracy * 100:.2f}%\")\n",
    "\n",
    "# # Afficher quelques exemples\n",
    "plt.figure(figsize=(10, 5))\n",
    "for i in range(10):\n",
    "    plt.subplot(2, 5, i+1)\n",
    "    plt.imshow(test_images[i], cmap='gray')\n",
    "    plt.title(f\"Prédiction: {y_pred[i]:.2f}\\nVrai: {'0' if true_class[i]==1 else 'non-0'}\")\n",
    "    plt.axis('off')\n",
    "plt.tight_layout()\n",
    "plt.show()"
   ]
  }
 ],
 "metadata": {
  "kernelspec": {
   "display_name": "Python 3",
   "language": "python",
   "name": "python3"
  },
  "language_info": {
   "codemirror_mode": {
    "name": "ipython",
    "version": 3
   },
   "file_extension": ".py",
   "mimetype": "text/x-python",
   "name": "python",
   "nbconvert_exporter": "python",
   "pygments_lexer": "ipython3",
   "version": "3.12.10"
  }
 },
 "nbformat": 4,
 "nbformat_minor": 5
}
