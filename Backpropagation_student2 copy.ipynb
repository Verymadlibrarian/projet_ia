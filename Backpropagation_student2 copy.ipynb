{
 "cells": [
  {
   "cell_type": "markdown",
   "id": "a8659459",
   "metadata": {},
   "source": [
    "### Implémenter :\n",
    "\n",
    "- Une classe \"fonction d'activation\" qui calcule une fonction d'activation et sa dérivée au moins pour la sigmoïde.\n",
    "- Un réseau de neurones (reprendre le TP2), de préférence sous forme de classe\n",
    "- La backpropagation (+ descente de gradient) pour le réseau. \n",
    "\n",
    "Pour vous aider, voici un premier canevas"
   ]
  },
  {
   "cell_type": "code",
   "execution_count": 35,
   "id": "dca7664c",
   "metadata": {},
   "outputs": [],
   "source": [
    "import numpy as np\n",
    "\n",
    "class activation:\n",
    "    def __init__(self, function, derivative):\n",
    "        self.function = function\n",
    "        self.derivative = derivative\n",
    "\n",
    "sigmoid = activation(lambda x : 1/(1+np.exp(-x)), lambda x : np.exp(-x)/((1+np.exp(-x))**2))\n",
    "identity = activation(lambda x : x, lambda x : 1)\n",
    "\n",
    "class layer:\n",
    "    def __init__(self, size_in, size_out, activation_function):\n",
    "        self.entry = np.zeros([size_in])\n",
    "        self.weights = np.random.normal(size=[size_out, size_in])\n",
    "        self.gradient_weights = np.zeros([size_out, size_in])\n",
    "        self.bias = np.random.normal(size=[size_out])\n",
    "        self.gradient_bias = np.zeros([size_out])\n",
    "        self.activation = activation_function\n",
    "        \n",
    "    def output(self):\n",
    "        return self.activation.function(self.weights @ self.entry + self.bias)\n",
    "    \n",
    "    def derivate(self):\n",
    "        return self.activation.derivative(self.weights @ self.entry + self.bias)\n",
    "    \n",
    "    def descend(self, step_length):\n",
    "        self.weights -= step_length * self.gradient_weights\n",
    "        self.bias -= step_length * self.gradient_bias\n",
    "        \n",
    "        # Reset gradients\n",
    "        self.gradient_weights = np.zeros([self.weights.shape[0], self.weights.shape[1]])\n",
    "        self.gradient_bias = np.zeros([self.bias.shape[0]])\n",
    "\n",
    "class network:\n",
    "    def __init__(self):\n",
    "        self.layers = []\n",
    "        \n",
    "    def add_layer(self,size_in, size_out, activation_function):\n",
    "        new_layer = layer(size_in, size_out, activation_function)\n",
    "        self.layers.append(new_layer)\n",
    "        \n",
    "    def run(self,x):\n",
    "        output = np.copy(x) #Par défaut, numpy ne fait pas de copies lors des attributions\n",
    "        for layer in self.layers:\n",
    "            layer.entry = np.copy(output)\n",
    "            output = np.copy(layer.output())\n",
    "        return output\n",
    "    \n",
    "    def fit(self,training_data, training_labels, nb_steps, step_length):\n",
    "        n = training_data.shape[0]\n",
    "        for i in range(nb_steps):\n",
    "            loss = 0\n",
    "            for j in range(n):\n",
    "                output = self.run(training_data[j,:].transpose())\n",
    "                H = -2 * (training_labels[j,:] - output)\n",
    "                loss += np.sum(np.pow(training_labels[j,:] - output, 2))\n",
    "                \n",
    "                for layer in reversed(self.layers):\n",
    "                    temp = layer.derivate()\n",
    "                    layer.gradient_weights += H * temp @ layer.entry.transpose()\n",
    "                    layer.gradient_bias += H * temp\n",
    "                    H = layer.weights.transpose() @ (H * temp)\n",
    "                    \n",
    "            \n",
    "            for layer in self.layers:\n",
    "                layer.descend(step_length)\n",
    "            \n",
    "            if(i%100 == 0) : print(loss)"
   ]
  },
  {
   "cell_type": "markdown",
   "id": "0a8c2059",
   "metadata": {},
   "source": [
    "### Test : régression linéaire\n",
    "\n",
    "Régresser Y par rapport à X dans un cas linéaire avec un réseau à une seule couche. (On devrait obtenir une droite de régression linéaire)"
   ]
  },
  {
   "cell_type": "code",
   "execution_count": 36,
   "id": "e06c2cb3",
   "metadata": {},
   "outputs": [
    {
     "data": {
      "text/plain": [
       "[<matplotlib.lines.Line2D at 0x28e683e33b0>]"
      ]
     },
     "execution_count": 36,
     "metadata": {},
     "output_type": "execute_result"
    },
    {
     "data": {
      "image/png": "[encoded data removed]",
      "text/plain": [
       "<Figure size 640x480 with 1 Axes>"
      ]
     },
     "metadata": {},
     "output_type": "display_data"
    }
   ],
   "source": [
    "import numpy as np\n",
    "import matplotlib.pyplot as plt\n",
    "\n",
    "n = 100\n",
    "\n",
    "X = np.linspace(-1,1,n)\n",
    "X.resize([n,1])\n",
    "fX = -0.2*X + 0.5\n",
    "\n",
    "eps = np.random.multivariate_normal(mean = [0], cov = [[0.1]], size = [n])\n",
    "\n",
    "Y = fX + eps \n",
    "\n",
    "plt.scatter(X,Y)\n",
    "plt.plot(X, fX, 'red')"
   ]
  },
  {
   "cell_type": "code",
   "execution_count": 37,
   "id": "7f075845",
   "metadata": {},
   "outputs": [
    {
     "ename": "ValueError",
     "evalue": "matmul: Input operand 1 has a mismatch in its core dimension 0, with gufunc signature (n?,k),(k,m?)->(n?,m?) (size 1 is different from 10)",
     "output_type": "error",
     "traceback": [
      "\u001b[31m---------------------------------------------------------------------------\u001b[39m",
      "\u001b[31mValueError\u001b[39m                                Traceback (most recent call last)",
      "\u001b[36mCell\u001b[39m\u001b[36m \u001b[39m\u001b[32mIn[37]\u001b[39m\u001b[32m, line 3\u001b[39m\n\u001b[32m      1\u001b[39m NN = network()\n\u001b[32m      2\u001b[39m NN.add_layer(\u001b[32m1\u001b[39m,\u001b[32m10\u001b[39m,sigmoid)\n\u001b[32m----> \u001b[39m\u001b[32m3\u001b[39m \u001b[43mNN\u001b[49m\u001b[43m.\u001b[49m\u001b[43mfit\u001b[49m\u001b[43m(\u001b[49m\u001b[43mX\u001b[49m\u001b[43m,\u001b[49m\u001b[43mY\u001b[49m\u001b[43m,\u001b[49m\u001b[32;43m1000\u001b[39;49m\u001b[43m,\u001b[49m\u001b[43m \u001b[49m\u001b[32;43m1e-5\u001b[39;49m\u001b[43m)\u001b[49m \u001b[38;5;66;03m# fX étant un réseau particulier, on devrait pouvoir fitter (quasi) parfaitement\u001b[39;00m\n\u001b[32m      4\u001b[39m hatY = np.copy(Y)\n\u001b[32m      5\u001b[39m n = X.shape[\u001b[32m0\u001b[39m]\n",
      "\u001b[36mCell\u001b[39m\u001b[36m \u001b[39m\u001b[32mIn[35]\u001b[39m\u001b[32m, line 60\u001b[39m, in \u001b[36mnetwork.fit\u001b[39m\u001b[34m(self, training_data, training_labels, nb_steps, step_length)\u001b[39m\n\u001b[32m     58\u001b[39m \u001b[38;5;28;01mfor\u001b[39;00m layer \u001b[38;5;129;01min\u001b[39;00m \u001b[38;5;28mreversed\u001b[39m(\u001b[38;5;28mself\u001b[39m.layers):\n\u001b[32m     59\u001b[39m     temp = layer.derivate()\n\u001b[32m---> \u001b[39m\u001b[32m60\u001b[39m     layer.gradient_weights += \u001b[43mH\u001b[49m\u001b[43m \u001b[49m\u001b[43m*\u001b[49m\u001b[43m \u001b[49m\u001b[43mtemp\u001b[49m\u001b[43m \u001b[49m\u001b[43m@\u001b[49m\u001b[43m \u001b[49m\u001b[43mlayer\u001b[49m\u001b[43m.\u001b[49m\u001b[43mentry\u001b[49m\u001b[43m.\u001b[49m\u001b[43mtranspose\u001b[49m\u001b[43m(\u001b[49m\u001b[43m)\u001b[49m\n\u001b[32m     61\u001b[39m     layer.gradient_bias += H * temp\n\u001b[32m     62\u001b[39m     H = layer.weights.transpose() @ (H * temp)\n",
      "\u001b[31mValueError\u001b[39m: matmul: Input operand 1 has a mismatch in its core dimension 0, with gufunc signature (n?,k),(k,m?)->(n?,m?) (size 1 is different from 10)"
     ]
    }
   ],
   "source": [
    "NN = network()\n",
    "NN.add_layer(1,10,sigmoid)\n",
    "NN.fit(X,Y,1000, 1e-5) # fX étant un réseau particulier, on devrait pouvoir fitter (quasi) parfaitement\n",
    "hatY = np.copy(Y)\n",
    "n = X.shape[0]\n",
    "for j in range(n):\n",
    "    hatY[j] = NN.run(X[j,:].transpose())\n",
    "    \n",
    "plt.scatter(X,Y)\n",
    "plt.scatter(X,hatY)\n",
    "plt.plot(X, fX, 'red')\n",
    "plt.show()"
   ]
  },
  {
   "cell_type": "code",
   "execution_count": 38,
   "id": "dbba8fd4",
   "metadata": {},
   "outputs": [
    {
     "ename": "ValueError",
     "evalue": "matmul: Input operand 1 has a mismatch in its core dimension 0, with gufunc signature (n?,k),(k,m?)->(n?,m?) (size 10 is different from 1)",
     "output_type": "error",
     "traceback": [
      "\u001b[31m---------------------------------------------------------------------------\u001b[39m",
      "\u001b[31mValueError\u001b[39m                                Traceback (most recent call last)",
      "\u001b[36mCell\u001b[39m\u001b[36m \u001b[39m\u001b[32mIn[38]\u001b[39m\u001b[32m, line 6\u001b[39m\n\u001b[32m      4\u001b[39m NN.add_layer(\u001b[32m1\u001b[39m,\u001b[32m10\u001b[39m,identity)\n\u001b[32m      5\u001b[39m NN.add_layer(\u001b[32m10\u001b[39m,\u001b[32m1\u001b[39m,identity)\n\u001b[32m----> \u001b[39m\u001b[32m6\u001b[39m \u001b[43mNN\u001b[49m\u001b[43m.\u001b[49m\u001b[43mfit\u001b[49m\u001b[43m(\u001b[49m\u001b[43mX\u001b[49m\u001b[43m,\u001b[49m\u001b[43mY\u001b[49m\u001b[43m,\u001b[49m\u001b[32;43m1000\u001b[39;49m\u001b[43m,\u001b[49m\u001b[32;43m1e-4\u001b[39;49m\u001b[43m)\u001b[49m \n\u001b[32m      7\u001b[39m n = X.shape[\u001b[32m0\u001b[39m]\n\u001b[32m      8\u001b[39m \u001b[38;5;28;01mfor\u001b[39;00m j \u001b[38;5;129;01min\u001b[39;00m \u001b[38;5;28mrange\u001b[39m(n):\n",
      "\u001b[36mCell\u001b[39m\u001b[36m \u001b[39m\u001b[32mIn[35]\u001b[39m\u001b[32m, line 60\u001b[39m, in \u001b[36mnetwork.fit\u001b[39m\u001b[34m(self, training_data, training_labels, nb_steps, step_length)\u001b[39m\n\u001b[32m     58\u001b[39m \u001b[38;5;28;01mfor\u001b[39;00m layer \u001b[38;5;129;01min\u001b[39;00m \u001b[38;5;28mreversed\u001b[39m(\u001b[38;5;28mself\u001b[39m.layers):\n\u001b[32m     59\u001b[39m     temp = layer.derivate()\n\u001b[32m---> \u001b[39m\u001b[32m60\u001b[39m     layer.gradient_weights += \u001b[43mH\u001b[49m\u001b[43m \u001b[49m\u001b[43m*\u001b[49m\u001b[43m \u001b[49m\u001b[43mtemp\u001b[49m\u001b[43m \u001b[49m\u001b[43m@\u001b[49m\u001b[43m \u001b[49m\u001b[43mlayer\u001b[49m\u001b[43m.\u001b[49m\u001b[43mentry\u001b[49m\u001b[43m.\u001b[49m\u001b[43mtranspose\u001b[49m\u001b[43m(\u001b[49m\u001b[43m)\u001b[49m\n\u001b[32m     61\u001b[39m     layer.gradient_bias += H * temp\n\u001b[32m     62\u001b[39m     H = layer.weights.transpose() @ (H * temp)\n",
      "\u001b[31mValueError\u001b[39m: matmul: Input operand 1 has a mismatch in its core dimension 0, with gufunc signature (n?,k),(k,m?)->(n?,m?) (size 10 is different from 1)"
     ]
    }
   ],
   "source": [
    "#Testons un réseau à deux couches\n",
    "\n",
    "NN = network()\n",
    "NN.add_layer(1,10,identity)\n",
    "NN.add_layer(10,1,identity)\n",
    "NN.fit(X,Y,1000,1e-4) \n",
    "n = X.shape[0]\n",
    "for j in range(n):\n",
    "    hatY[j] = NN.run(X[j,:].transpose())\n",
    "    \n",
    "plt.scatter(X,Y)\n",
    "plt.scatter(X,hatY)\n",
    "plt.plot(X, fX, 'red')"
   ]
  },
  {
   "cell_type": "code",
   "execution_count": null,
   "id": "f301edb0",
   "metadata": {},
   "outputs": [],
   "source": [
    "#Testons la fonction d'activation sigmoïde\n",
    "\n",
    "NN = network()\n",
    "NN.add_layer(1,10,sigmoid)\n",
    "NN.add_layer(10,1,identity)\n",
    "NN.fit(X,Y,1000,1e-2) \n",
    "n = X.shape[0]\n",
    "for j in range(n):\n",
    "    hatY[j] = NN.run(X[j,:].transpose())\n",
    "    \n",
    "plt.scatter(X,Y)\n",
    "plt.scatter(X,hatY)\n",
    "plt.plot(X, fX, 'red')"
   ]
  },
  {
   "cell_type": "markdown",
   "id": "3079ff80",
   "metadata": {},
   "source": [
    "### Test : régression polynomiale"
   ]
  },
  {
   "cell_type": "code",
   "execution_count": null,
   "id": "c8d2d25f",
   "metadata": {},
   "outputs": [],
   "source": [
    "import numpy as np\n",
    "import matplotlib.pyplot as plt\n",
    "\n",
    "n = 100\n",
    "\n",
    "X = np.linspace(-1,1,n)\n",
    "X.resize([n,1])\n",
    "fX = 0.3*X**5 - X**2 + 0.5\n",
    "\n",
    "eps = np.random.multivariate_normal(mean = [0], cov = [[0.1]], size = [n])\n",
    "\n",
    "Y = fX + eps \n",
    "\n",
    "plt.scatter(X,Y)\n",
    "plt.plot(X, fX, 'red')"
   ]
  },
  {
   "cell_type": "code",
   "execution_count": null,
   "id": "30c6e694",
   "metadata": {},
   "outputs": [],
   "source": [
    "NN = network()\n",
    "NN.add_layer(1,100,sigmoid)\n",
    "NN.add_layer(100,100,sigmoid)\n",
    "NN.add_layer(100,1,identity)\n",
    "\n",
    "NN.fit(X,Y, 1000, 1e-2)\n",
    "\n",
    "n = X.shape[0]\n",
    "for j in range(n):\n",
    "    hatY[j] = NN.run(X[j,:].transpose())\n",
    "    \n",
    "plt.scatter(X,Y)\n",
    "plt.scatter(X,hatY)\n",
    "plt.plot(X, fX, 'red')"
   ]
  }
 ],
 "metadata": {
  "kernelspec": {
   "display_name": "Python 3",
   "language": "python",
   "name": "python3"
  },
  "language_info": {
   "codemirror_mode": {
    "name": "ipython",
    "version": 3
   },
   "file_extension": ".py",
   "mimetype": "text/x-python",
   "name": "python",
   "nbconvert_exporter": "python",
   "pygments_lexer": "ipython3",
   "version": "3.12.10"
  }
 },
 "nbformat": 4,
 "nbformat_minor": 5
}
